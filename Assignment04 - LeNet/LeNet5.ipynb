{
  "nbformat": 4,
  "nbformat_minor": 0,
  "metadata": {
    "colab": {
      "name": "LeNet5.ipynb",
      "provenance": [],
      "collapsed_sections": []
    },
    "kernelspec": {
      "name": "python3",
      "display_name": "Python 3"
    },
    "language_info": {
      "name": "python"
    },
    "accelerator": "GPU",
    "gpuClass": "standard"
  },
  "cells": [
    {
      "cell_type": "markdown",
      "source": [
        "# LeNet\n",
        "\n",
        "LeNet (LeNet-5) consists of two parts: (i) a convolutional encoder consisting of two convolutional layers; and (ii) a dense block consisting of three fully-connected layers; The architecture is summarized in"
      ],
      "metadata": {
        "id": "k6Pg2cjU5B-J"
      }
    },
    {
      "cell_type": "code",
      "source": [
        "import tensorflow as tf\n",
        "import matplotlib.pyplot as plt\n",
        "from tensorflow.keras import datasets, layers, models, losses"
      ],
      "metadata": {
        "id": "hicHRVbQ8PPw"
      },
      "execution_count": 1,
      "outputs": []
    },
    {
      "cell_type": "code",
      "execution_count": 2,
      "metadata": {
        "colab": {
          "base_uri": "https://localhost:8080/"
        },
        "id": "3WSQBwqL2oRe",
        "outputId": "cc1264af-e42b-4df4-9651-e63fafc07652"
      },
      "outputs": [
        {
          "output_type": "stream",
          "name": "stdout",
          "text": [
            "Downloading data from https://storage.googleapis.com/tensorflow/tf-keras-datasets/mnist.npz\n",
            "11493376/11490434 [==============================] - 0s 0us/step\n",
            "11501568/11490434 [==============================] - 0s 0us/step\n"
          ]
        },
        {
          "output_type": "execute_result",
          "data": {
            "text/plain": [
              "(60000, 28, 28)"
            ]
          },
          "metadata": {},
          "execution_count": 2
        }
      ],
      "source": [
        "(x_train,y_train),(x_test,y_test) = datasets.mnist.load_data() # download the dataset\n",
        "x_train.shape"
      ]
    },
    {
      "cell_type": "code",
      "source": [
        "x_train = tf.pad(x_train, [[0, 0], [2,2], [2,2]])/255\n",
        "x_test = tf.pad(x_test, [[0, 0], [2,2], [2,2]])/255\n",
        "x_train.shape"
      ],
      "metadata": {
        "colab": {
          "base_uri": "https://localhost:8080/"
        },
        "id": "8_S3JN365VnC",
        "outputId": "45d752cf-00f4-490d-af5c-d8f0f02e8fd9"
      },
      "execution_count": 3,
      "outputs": [
        {
          "output_type": "execute_result",
          "data": {
            "text/plain": [
              "TensorShape([60000, 32, 32])"
            ]
          },
          "metadata": {},
          "execution_count": 3
        }
      ]
    },
    {
      "cell_type": "code",
      "source": [
        "x_train = tf.expand_dims(x_train, axis=3, name=None)\n",
        "x_test = tf.expand_dims(x_test, axis=3, name=None)\n",
        "x_train.shape"
      ],
      "metadata": {
        "colab": {
          "base_uri": "https://localhost:8080/"
        },
        "id": "6IB3Xpae_CCY",
        "outputId": "33ae1db2-4873-4d16-f5b2-278e79068f7b"
      },
      "execution_count": 4,
      "outputs": [
        {
          "output_type": "execute_result",
          "data": {
            "text/plain": [
              "TensorShape([60000, 32, 32, 1])"
            ]
          },
          "metadata": {},
          "execution_count": 4
        }
      ]
    },
    {
      "cell_type": "code",
      "source": [
        "x_val = x_train[-2000:,:,:,:] \n",
        "y_val = y_train[-2000:] \n",
        "x_train = x_train[:-2000,:,:,:] \n",
        "y_train = y_train[:-2000]"
      ],
      "metadata": {
        "id": "nfJmILrV58lq"
      },
      "execution_count": 5,
      "outputs": []
    },
    {
      "cell_type": "code",
      "source": [
        "model = models.Sequential()\n",
        "model.add(layers.Conv2D(6, 5, activation='tanh', input_shape=x_train.shape[1:]))\n",
        "model.add(layers.AveragePooling2D(2))\n",
        "model.add(layers.Activation('sigmoid'))\n",
        "model.add(layers.Conv2D(16, 5, activation='tanh'))\n",
        "model.add(layers.AveragePooling2D(2))\n",
        "model.add(layers.Activation('sigmoid'))\n",
        "model.add(layers.Conv2D(120, 5, activation='tanh'))\n",
        "model.add(layers.Flatten())\n",
        "model.add(layers.Dense(84, activation='tanh'))\n",
        "model.add(layers.Dense(10, activation='softmax'))\n",
        "model.summary()"
      ],
      "metadata": {
        "colab": {
          "base_uri": "https://localhost:8080/"
        },
        "id": "HE2H8Og85_xc",
        "outputId": "0fd98250-b874-47e2-8b59-f09d4c2d573f"
      },
      "execution_count": 6,
      "outputs": [
        {
          "output_type": "stream",
          "name": "stdout",
          "text": [
            "Model: \"sequential\"\n",
            "_________________________________________________________________\n",
            " Layer (type)                Output Shape              Param #   \n",
            "=================================================================\n",
            " conv2d (Conv2D)             (None, 28, 28, 6)         156       \n",
            "                                                                 \n",
            " average_pooling2d (AverageP  (None, 14, 14, 6)        0         \n",
            " ooling2D)                                                       \n",
            "                                                                 \n",
            " activation (Activation)     (None, 14, 14, 6)         0         \n",
            "                                                                 \n",
            " conv2d_1 (Conv2D)           (None, 10, 10, 16)        2416      \n",
            "                                                                 \n",
            " average_pooling2d_1 (Averag  (None, 5, 5, 16)         0         \n",
            " ePooling2D)                                                     \n",
            "                                                                 \n",
            " activation_1 (Activation)   (None, 5, 5, 16)          0         \n",
            "                                                                 \n",
            " conv2d_2 (Conv2D)           (None, 1, 1, 120)         48120     \n",
            "                                                                 \n",
            " flatten (Flatten)           (None, 120)               0         \n",
            "                                                                 \n",
            " dense (Dense)               (None, 84)                10164     \n",
            "                                                                 \n",
            " dense_1 (Dense)             (None, 10)                850       \n",
            "                                                                 \n",
            "=================================================================\n",
            "Total params: 61,706\n",
            "Trainable params: 61,706\n",
            "Non-trainable params: 0\n",
            "_________________________________________________________________\n"
          ]
        }
      ]
    },
    {
      "cell_type": "code",
      "source": [
        "model.compile(optimizer='adam', loss=losses.sparse_categorical_crossentropy, metrics=['accuracy'])\n",
        "history = model.fit(x_train, y_train, batch_size=64, epochs=40, validation_data=(x_val, y_val))"
      ],
      "metadata": {
        "colab": {
          "base_uri": "https://localhost:8080/"
        },
        "id": "rcf4HrRM6Cl6",
        "outputId": "362fb058-fdd1-4fb5-94a3-e03e3001edb2"
      },
      "execution_count": 7,
      "outputs": [
        {
          "output_type": "stream",
          "name": "stdout",
          "text": [
            "Epoch 1/40\n",
            "907/907 [==============================] - 15s 5ms/step - loss: 1.3932 - accuracy: 0.4957 - val_loss: 0.2976 - val_accuracy: 0.9140\n",
            "Epoch 2/40\n",
            "907/907 [==============================] - 4s 4ms/step - loss: 0.3542 - accuracy: 0.8884 - val_loss: 0.2136 - val_accuracy: 0.9400\n",
            "Epoch 3/40\n",
            "907/907 [==============================] - 4s 4ms/step - loss: 0.2692 - accuracy: 0.9161 - val_loss: 0.1609 - val_accuracy: 0.9530\n",
            "Epoch 4/40\n",
            "907/907 [==============================] - 4s 4ms/step - loss: 0.2312 - accuracy: 0.9264 - val_loss: 0.1225 - val_accuracy: 0.9705\n",
            "Epoch 5/40\n",
            "907/907 [==============================] - 4s 4ms/step - loss: 0.2028 - accuracy: 0.9356 - val_loss: 0.1548 - val_accuracy: 0.9575\n",
            "Epoch 6/40\n",
            "907/907 [==============================] - 4s 4ms/step - loss: 0.1832 - accuracy: 0.9423 - val_loss: 0.1277 - val_accuracy: 0.9640\n",
            "Epoch 7/40\n",
            "907/907 [==============================] - 4s 4ms/step - loss: 0.1651 - accuracy: 0.9476 - val_loss: 0.1155 - val_accuracy: 0.9680\n",
            "Epoch 8/40\n",
            "907/907 [==============================] - 4s 4ms/step - loss: 0.1544 - accuracy: 0.9516 - val_loss: 0.0974 - val_accuracy: 0.9735\n",
            "Epoch 9/40\n",
            "907/907 [==============================] - 4s 4ms/step - loss: 0.1434 - accuracy: 0.9553 - val_loss: 0.0831 - val_accuracy: 0.9780\n",
            "Epoch 10/40\n",
            "907/907 [==============================] - 5s 5ms/step - loss: 0.1364 - accuracy: 0.9573 - val_loss: 0.0871 - val_accuracy: 0.9755\n",
            "Epoch 11/40\n",
            "907/907 [==============================] - 6s 6ms/step - loss: 0.1290 - accuracy: 0.9589 - val_loss: 0.0791 - val_accuracy: 0.9795\n",
            "Epoch 12/40\n",
            "907/907 [==============================] - 4s 4ms/step - loss: 0.1230 - accuracy: 0.9611 - val_loss: 0.1033 - val_accuracy: 0.9695\n",
            "Epoch 13/40\n",
            "907/907 [==============================] - 5s 5ms/step - loss: 0.1190 - accuracy: 0.9623 - val_loss: 0.0964 - val_accuracy: 0.9720\n",
            "Epoch 14/40\n",
            "907/907 [==============================] - 7s 8ms/step - loss: 0.1137 - accuracy: 0.9647 - val_loss: 0.0695 - val_accuracy: 0.9860\n",
            "Epoch 15/40\n",
            "907/907 [==============================] - 7s 7ms/step - loss: 0.1140 - accuracy: 0.9638 - val_loss: 0.0971 - val_accuracy: 0.9760\n",
            "Epoch 16/40\n",
            "907/907 [==============================] - 5s 5ms/step - loss: 0.1047 - accuracy: 0.9662 - val_loss: 0.1377 - val_accuracy: 0.9635\n",
            "Epoch 17/40\n",
            "907/907 [==============================] - 6s 7ms/step - loss: 0.1011 - accuracy: 0.9677 - val_loss: 0.0655 - val_accuracy: 0.9845\n",
            "Epoch 18/40\n",
            "907/907 [==============================] - 7s 7ms/step - loss: 0.0992 - accuracy: 0.9683 - val_loss: 0.0730 - val_accuracy: 0.9830\n",
            "Epoch 19/40\n",
            "907/907 [==============================] - 4s 5ms/step - loss: 0.0931 - accuracy: 0.9706 - val_loss: 0.0689 - val_accuracy: 0.9850\n",
            "Epoch 20/40\n",
            "907/907 [==============================] - 5s 6ms/step - loss: 0.0915 - accuracy: 0.9710 - val_loss: 0.0652 - val_accuracy: 0.9870\n",
            "Epoch 21/40\n",
            "907/907 [==============================] - 5s 5ms/step - loss: 0.0875 - accuracy: 0.9727 - val_loss: 0.0843 - val_accuracy: 0.9785\n",
            "Epoch 22/40\n",
            "907/907 [==============================] - 5s 5ms/step - loss: 0.0857 - accuracy: 0.9732 - val_loss: 0.0667 - val_accuracy: 0.9835\n",
            "Epoch 23/40\n",
            "907/907 [==============================] - 4s 4ms/step - loss: 0.0856 - accuracy: 0.9728 - val_loss: 0.0628 - val_accuracy: 0.9850\n",
            "Epoch 24/40\n",
            "907/907 [==============================] - 5s 5ms/step - loss: 0.0796 - accuracy: 0.9748 - val_loss: 0.0857 - val_accuracy: 0.9760\n",
            "Epoch 25/40\n",
            "907/907 [==============================] - 4s 4ms/step - loss: 0.0783 - accuracy: 0.9752 - val_loss: 0.1134 - val_accuracy: 0.9660\n",
            "Epoch 26/40\n",
            "907/907 [==============================] - 4s 4ms/step - loss: 0.0748 - accuracy: 0.9764 - val_loss: 0.0744 - val_accuracy: 0.9800\n",
            "Epoch 27/40\n",
            "907/907 [==============================] - 4s 4ms/step - loss: 0.0744 - accuracy: 0.9767 - val_loss: 0.0704 - val_accuracy: 0.9820\n",
            "Epoch 28/40\n",
            "907/907 [==============================] - 4s 4ms/step - loss: 0.0735 - accuracy: 0.9766 - val_loss: 0.0598 - val_accuracy: 0.9870\n",
            "Epoch 29/40\n",
            "907/907 [==============================] - 4s 4ms/step - loss: 0.0732 - accuracy: 0.9755 - val_loss: 0.0578 - val_accuracy: 0.9890\n",
            "Epoch 30/40\n",
            "907/907 [==============================] - 4s 4ms/step - loss: 0.0694 - accuracy: 0.9775 - val_loss: 0.0723 - val_accuracy: 0.9780\n",
            "Epoch 31/40\n",
            "907/907 [==============================] - 4s 4ms/step - loss: 0.0651 - accuracy: 0.9784 - val_loss: 0.0560 - val_accuracy: 0.9875\n",
            "Epoch 32/40\n",
            "907/907 [==============================] - 4s 4ms/step - loss: 0.0665 - accuracy: 0.9786 - val_loss: 0.0797 - val_accuracy: 0.9790\n",
            "Epoch 33/40\n",
            "907/907 [==============================] - 4s 4ms/step - loss: 0.0666 - accuracy: 0.9781 - val_loss: 0.0652 - val_accuracy: 0.9825\n",
            "Epoch 34/40\n",
            "907/907 [==============================] - 4s 4ms/step - loss: 0.0641 - accuracy: 0.9788 - val_loss: 0.0590 - val_accuracy: 0.9865\n",
            "Epoch 35/40\n",
            "907/907 [==============================] - 4s 4ms/step - loss: 0.0608 - accuracy: 0.9801 - val_loss: 0.0689 - val_accuracy: 0.9835\n",
            "Epoch 36/40\n",
            "907/907 [==============================] - 4s 4ms/step - loss: 0.0618 - accuracy: 0.9805 - val_loss: 0.0672 - val_accuracy: 0.9850\n",
            "Epoch 37/40\n",
            "907/907 [==============================] - 4s 4ms/step - loss: 0.0596 - accuracy: 0.9809 - val_loss: 0.0592 - val_accuracy: 0.9860\n",
            "Epoch 38/40\n",
            "907/907 [==============================] - 4s 4ms/step - loss: 0.0579 - accuracy: 0.9814 - val_loss: 0.0723 - val_accuracy: 0.9815\n",
            "Epoch 39/40\n",
            "907/907 [==============================] - 4s 4ms/step - loss: 0.0579 - accuracy: 0.9811 - val_loss: 0.0698 - val_accuracy: 0.9815\n",
            "Epoch 40/40\n",
            "907/907 [==============================] - 4s 4ms/step - loss: 0.0582 - accuracy: 0.9806 - val_loss: 0.0659 - val_accuracy: 0.9830\n"
          ]
        }
      ]
    },
    {
      "cell_type": "code",
      "source": [
        "fig, axs = plt.subplots(2, 1, figsize=(15,15))  \n",
        "axs[0].plot(history.history['loss']) \n",
        "axs[0].plot(history.history['val_loss']) \n",
        "axs[0].title.set_text('Training Loss vs Validation Loss') \n",
        "axs[0].legend(['Train', 'Val'])  \n",
        "axs[1].plot(history.history['accuracy']) \n",
        "axs[1].plot(history.history['val_accuracy']) \n",
        "axs[1].title.set_text('Training Accuracy vs Validation Accuracy') \n",
        "axs[1].legend(['Train', 'Val'])\n"
      ],
      "metadata": {
        "colab": {
          "base_uri": "https://localhost:8080/",
          "height": 896
        },
        "id": "M_vdjzB17yom",
        "outputId": "75e52953-c48c-4933-cb03-f250eae885c6"
      },
      "execution_count": 8,
      "outputs": [
        {
          "output_type": "execute_result",
          "data": {
            "text/plain": [
              "<matplotlib.legend.Legend at 0x7f56b6496b50>"
            ]
          },
          "metadata": {},
          "execution_count": 8
        },
        {
          "output_type": "display_data",
          "data": {
            "text/plain": [
              "<Figure size 1080x1080 with 2 Axes>"
            ],
            "image/png": "[encoded data removed]"
          },
          "metadata": {
            "needs_background": "light"
          }
        }
      ]
    },
    {
      "cell_type": "code",
      "source": [
        "model.evaluate(x_test, y_test)"
      ],
      "metadata": {
        "id": "OyqKp_SpAajJ",
        "outputId": "16ca91d9-eb1f-43d3-c678-d9fd6bb5aa75",
        "colab": {
          "base_uri": "https://localhost:8080/"
        }
      },
      "execution_count": 9,
      "outputs": [
        {
          "output_type": "stream",
          "name": "stdout",
          "text": [
            "313/313 [==============================] - 1s 4ms/step - loss: 0.0805 - accuracy: 0.9753\n"
          ]
        },
        {
          "output_type": "execute_result",
          "data": {
            "text/plain": [
              "[0.08051909506320953, 0.9753000140190125]"
            ]
          },
          "metadata": {},
          "execution_count": 9
        }
      ]
    },
    {
      "cell_type": "code",
      "source": [
        ""
      ],
      "metadata": {
        "id": "OXFRmoyZAgi0"
      },
      "execution_count": null,
      "outputs": []
    }
  ]
}